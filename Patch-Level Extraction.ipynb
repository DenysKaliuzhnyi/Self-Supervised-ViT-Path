{
 "cells": [
  {
   "cell_type": "markdown",
   "metadata": {},
   "source": [
    "### Dependencies"
   ]
  },
  {
   "cell_type": "code",
   "execution_count": 4,
   "metadata": {
    "scrolled": true
   },
   "outputs": [],
   "source": [
    "### Dependencies\n",
    "# Base Dependencies\n",
    "import os\n",
    "import pickle\n",
    "import sys\n",
    "\n",
    "# LinAlg / Stats / Plotting Dependencies\n",
    "import h5py\n",
    "import matplotlib.pyplot as plt\n",
    "import numpy as np\n",
    "import pandas as pd\n",
    "from PIL import Image\n",
    "import umap\n",
    "import umap.plot\n",
    "from tqdm import tqdm\n",
    "\n",
    "# Torch Dependencies\n",
    "import torch\n",
    "import torch.multiprocessing\n",
    "import torchvision\n",
    "import torch.utils.data.dataset as Dataset\n",
    "from torchvision import transforms\n",
    "from pl_bolts.models.self_supervised import resnets\n",
    "from pl_bolts.utils.semi_supervised import Identity\n",
    "device = torch.device('cuda:0')\n",
    "torch.multiprocessing.set_sharing_strategy('file_system')\n",
    "\n",
    "# Model Architectures\n",
    "from nn_encoder_arch.vision_transformer import vit_small\n",
    "from nn_encoder_arch.resnet_trunc import resnet50_trunc_baseline\n",
    "\n",
    "# Utils\n",
    "from patch_extraction_utils import eval_transforms, torchvision_ssl_encoder\n",
    "from patch_extraction_utils import CSVDataset_BreastPathQ, CSVDataset_BCSS\n",
    "from patch_extraction_utils import create_embeddings, save_embeddings, create_UMAP"
   ]
  },
  {
   "cell_type": "markdown",
   "metadata": {},
   "source": [
    "### How To Use\n",
    "1. Download CRC-100K, BCSS, and BreastPathQ and place in a directory for holding patch da\n",
    "2. Download pretrain models in the \"./ckpts/\" via Git-LFS\n",
    "3. Run the \"create_embeddings\" function to save extract features for each patch dataset\n",
    "4. Pre-extracted features for each patch dataset are available in \"embeddings_patch_library\" on Google Drive"
   ]
  },
  {
   "cell_type": "markdown",
   "metadata": {},
   "source": [
    "### Embedding Library Construction"
   ]
  },
  {
   "cell_type": "code",
   "execution_count": 5,
   "metadata": {},
   "outputs": [
    {
     "name": "stdout",
     "output_type": "stream",
     "text": [
      "Extracting Features for 'crc100knonorm' via 'resnet50_trunc'\n",
      "Extracting Features for 'crc100k' via 'resnet50_trunc'\n",
      "Extracting Features for 'bcss' via 'resnet50_trunc'\n",
      "Extracting Features for 'breastpathq' via 'resnet50_trunc'\n",
      "Extracting Features for 'crc100knonorm' via 'resnet50_tcga_brca_simclr'\n",
      "Extracting Features for 'crc100k' via 'resnet50_tcga_brca_simclr'\n",
      "Extracting Features for 'bcss' via 'resnet50_tcga_brca_simclr'\n",
      "Extracting Features for 'breastpathq' via 'resnet50_tcga_brca_simclr'\n",
      "Extracting Features for 'crc100knonorm' via 'vits_tcga_brca_dino'\n",
      "Extracting Features for 'crc100k' via 'vits_tcga_brca_dino'\n",
      "Extracting Features for 'bcss' via 'vits_tcga_brca_dino'\n",
      "Extracting Features for 'breastpathq' via 'vits_tcga_brca_dino'\n"
     ]
    }
   ],
   "source": [
    "### Extracting Patch Features\n",
    "patch_datasets = '/media/hdd1/PatchDatasets/'\n",
    "library_path = './embeddings_patch_library/'\n",
    "os.makedirs(library_path, exist_ok=True)\n",
    "\n",
    "models = ['resnet50_trunc', 'resnet50_tcga_brca_simclr', 'vits_tcga_brca_dino']\n",
    "\n",
    "for enc_name in models:\n",
    "    create_embeddings(patch_datasets=patch_datasets, embeddings_dir=library_path, enc_name=enc_name, dataset='crc100knonorm')\n",
    "    create_embeddings(patch_datasets=patch_datasets, embeddings_dir=library_path, enc_name=enc_name, dataset='crc100k')\n",
    "    create_embeddings(patch_datasets=patch_datasets, embeddings_dir=library_path, enc_name=enc_name, dataset='bcss')\n",
    "    create_embeddings(patch_datasets=patch_datasets, embeddings_dir=library_path, enc_name=enc_name, dataset='breastpathq')"
   ]
  }
 ],
 "metadata": {
  "kernelspec": {
   "display_name": "Python 3",
   "language": "python",
   "name": "python3"
  },
  "language_info": {
   "codemirror_mode": {
    "name": "ipython",
    "version": 3
   },
   "file_extension": ".py",
   "mimetype": "text/x-python",
   "name": "python",
   "nbconvert_exporter": "python",
   "pygments_lexer": "ipython3",
   "version": "3.7.7"
  }
 },
 "nbformat": 4,
 "nbformat_minor": 4
}
